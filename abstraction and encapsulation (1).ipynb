{
 "cells": [
  {
   "cell_type": "markdown",
   "id": "4b021f76-d4c4-4e25-b8d6-593550454e44",
   "metadata": {},
   "source": [
    "Q1,What is abstraction in oops ? explain with example\n",
    "\n",
    "ANS--abstracttion displays only the relevent attributes of object and hides the unnecessary details\n"
   ]
  },
  {
   "cell_type": "code",
   "execution_count": 1,
   "id": "85821550-7eee-461e-afe8-05b1b211f335",
   "metadata": {},
   "outputs": [
    {
     "name": "stdout",
     "output_type": "stream",
     "text": [
      "Barking\n",
      "Meowing\n"
     ]
    }
   ],
   "source": [
    "#Here's an example to illustrate abstraction:\n",
    "from abc import ABC, abstractmethod\n",
    "\n",
    "class Animal(ABC):\n",
    "    @abstractmethod\n",
    "    def make_sound(self):\n",
    "        pass\n",
    "\n",
    "class Dog(Animal):\n",
    "    def make_sound(self):\n",
    "        print(\"Barking\")\n",
    "\n",
    "class Cat(Animal):\n",
    "    def make_sound(self):\n",
    "        print(\"Meowing\")\n",
    "\n",
    "dog = Dog()\n",
    "dog.make_sound()  \n",
    "\n",
    "cat = Cat()\n",
    "cat.make_sound() "
   ]
  },
  {
   "cell_type": "markdown",
   "id": "5bd637f3-78d7-4ef0-95da-ade81543d0d9",
   "metadata": {},
   "source": [
    "Q2,defferentiate between abstratction and encapsulation ? explain with example\n",
    "\n",
    "ANS--Abstraction and encapsulation are two essential concepts in oops\n",
    "     but have different purposes and distinc characteristics\n",
    "     \n",
    "     "
   ]
  },
  {
   "cell_type": "markdown",
   "id": "dbe43e28-4c0a-46b1-867a-d53af5650fd2",
   "metadata": {},
   "source": [
    "Abstraction: Abstraction focuses on simplyfying complex system by breaking them down innto smaller manageable units\n",
    "             it involves capturing the essential features and behavior of an object while hiding irrelevent detail"
   ]
  },
  {
   "cell_type": "code",
   "execution_count": 2,
   "id": "9d1da18c-4c31-485a-b8a9-3b61ec0caa93",
   "metadata": {},
   "outputs": [
    {
     "name": "stdout",
     "output_type": "stream",
     "text": [
      "Barking\n",
      "Meowing\n"
     ]
    }
   ],
   "source": [
    "#example of abstraction\n",
    "from abc import ABC, abstractmethod\n",
    "\n",
    "class Animal(ABC):\n",
    "    @abstractmethod\n",
    "    def make_sound(self):\n",
    "        pass\n",
    "\n",
    "class Dog(Animal):\n",
    "    def make_sound(self):\n",
    "        print(\"Barking\")\n",
    "\n",
    "class Cat(Animal):\n",
    "    def make_sound(self):\n",
    "        print(\"Meowing\")\n",
    "\n",
    "dog = Dog()\n",
    "dog.make_sound()  \n",
    "\n",
    "cat = Cat()\n",
    "cat.make_sound() "
   ]
  },
  {
   "cell_type": "markdown",
   "id": "4bbd2a15-c51b-4037-9a3b-fe41ceca6e6c",
   "metadata": {},
   "source": [
    "Encapsulation: Encapsulation focuses on bunding data and the method that oprate onn that data into a single unit called an                    object.\n",
    "               it hides the internal detail of an object and providing a public interface to intract with it\n",
    "            "
   ]
  },
  {
   "cell_type": "code",
   "execution_count": 4,
   "id": "19929b27-b073-4543-b030-b38cdd687764",
   "metadata": {},
   "outputs": [
    {
     "name": "stdout",
     "output_type": "stream",
     "text": [
      "Toyota\n",
      "Blue\n",
      "10\n"
     ]
    }
   ],
   "source": [
    "#example of encapsulation \n",
    "class Car:\n",
    "    def __init__(self, brand, color):\n",
    "        self._brand = brand  \n",
    "        self._color = color  \n",
    "        self._fuel_level = 0  \n",
    "\n",
    "    def get_brand(self):\n",
    "        return self._brand\n",
    "\n",
    "    def set_color(self, color):\n",
    "        self._color = color\n",
    "\n",
    "    def refuel(self, amount):\n",
    "        self._fuel_level += amount\n",
    "\n",
    "car = Car(\"Toyota\", \"Red\")\n",
    "print(car.get_brand())  \n",
    "\n",
    "car.set_color(\"Blue\")\n",
    "print(car._color)  \n",
    "\n",
    "car.refuel(10)\n",
    "print(car._fuel_level)  "
   ]
  },
  {
   "cell_type": "code",
   "execution_count": 5,
   "id": "2b550c97-47d2-42c6-8a7a-94536a324e4f",
   "metadata": {},
   "outputs": [],
   "source": [
    "#brand colour and fule level are protected using a underscore prefix"
   ]
  },
  {
   "cell_type": "markdown",
   "id": "1c939ed5-aef6-4cfb-9b02-fe1e87a5180f",
   "metadata": {},
   "source": [
    "Q3,what is abc module in python ? why it is used?\n",
    "\n",
    "ANS--The abc module in Python stands for \"Abstract Base Classes.\" It is a module that provides infrastructure for creating abstract base classes (ABCs) in Python.\n",
    "\n",
    "An abstract base class is a class that cannot be instantiated and is designed to be subclassed by other classes. It serves as a blueprint for creating concrete classes and defines a common interface that subclasses must implement. Abstract base classes allow you to define common methods and attributes that should be present in the derived classes.\n",
    "\n",
    "An abstract base class is a class that cannot be instantiated and is designed to be subclassed by other classes. It serves as a blueprint for creating concrete classes and defines a common interface that subclasses must implement. Abstract base classes allow you to define common methods and attributes that should be present in the derived classes.\n",
    "\n",
    "The abc module provides the ABC class and the abstractmethod decorator, which are used to define abstract base classes and abstract methods, respectively. By using these, you can create abstract base classes with abstract methods that must be implemented by the subclasses."
   ]
  },
  {
   "cell_type": "code",
   "execution_count": 8,
   "id": "b3dea207-3d02-4e4e-8e83-8a904f45cc51",
   "metadata": {},
   "outputs": [
    {
     "ename": "TypeError",
     "evalue": "Can't instantiate abstract class Shape with abstract method calculate_area",
     "output_type": "error",
     "traceback": [
      "\u001b[0;31m---------------------------------------------------------------------------\u001b[0m",
      "\u001b[0;31mTypeError\u001b[0m                                 Traceback (most recent call last)",
      "Cell \u001b[0;32mIn[8], line 25\u001b[0m\n\u001b[1;32m     21\u001b[0m     \u001b[38;5;28;01mdef\u001b[39;00m \u001b[38;5;21mcalculate_area\u001b[39m(\u001b[38;5;28mself\u001b[39m):\n\u001b[1;32m     22\u001b[0m         \u001b[38;5;28;01mreturn\u001b[39;00m \u001b[38;5;28mself\u001b[39m\u001b[38;5;241m.\u001b[39mlength \u001b[38;5;241m*\u001b[39m \u001b[38;5;28mself\u001b[39m\u001b[38;5;241m.\u001b[39mwidth\n\u001b[0;32m---> 25\u001b[0m shape \u001b[38;5;241m=\u001b[39m \u001b[43mShape\u001b[49m\u001b[43m(\u001b[49m\u001b[43m)\u001b[49m  \n\u001b[1;32m     27\u001b[0m circle \u001b[38;5;241m=\u001b[39m Circle(\u001b[38;5;241m5\u001b[39m)\n\u001b[1;32m     28\u001b[0m \u001b[38;5;28mprint\u001b[39m(circle\u001b[38;5;241m.\u001b[39mcalculate_area())  \n",
      "\u001b[0;31mTypeError\u001b[0m: Can't instantiate abstract class Shape with abstract method calculate_area"
     ]
    }
   ],
   "source": [
    "#example\n",
    "from abc import ABC, abstractmethod\n",
    "\n",
    "class Shape(ABC):\n",
    "    @abstractmethod\n",
    "    def calculate_area(self):\n",
    "        pass\n",
    "\n",
    "class Circle(Shape):\n",
    "    def __init__(self, radius):\n",
    "        self.radius = radius\n",
    "\n",
    "    def calculate_area(self):\n",
    "        return 3.14 * self.radius**2\n",
    "\n",
    "class Rectangle(Shape):\n",
    "    def __init__(self, length, width):\n",
    "        self.length = length\n",
    "        self.width = width\n",
    "\n",
    "    def calculate_area(self):\n",
    "        return self.length * self.width\n",
    "\n",
    "\n",
    "shape = Shape()  \n"
   ]
  },
  {
   "cell_type": "code",
   "execution_count": 9,
   "id": "d87ee5fd-0814-48b8-a5da-5de663473895",
   "metadata": {},
   "outputs": [
    {
     "name": "stdout",
     "output_type": "stream",
     "text": [
      "78.5\n",
      "24\n"
     ]
    }
   ],
   "source": [
    "circle = Circle(5)\n",
    "print(circle.calculate_area())  \n",
    "\n",
    "rectangle = Rectangle(4, 6)\n",
    "print(rectangle.calculate_area()) "
   ]
  },
  {
   "cell_type": "markdown",
   "id": "bf8c1c58-24b5-45fd-ab11-8ca797e5c575",
   "metadata": {},
   "source": [
    "Q4,how can we achieve data abstraction?\n",
    "\n",
    "ANS--Data abstraction can be achieved in Python through the use of classes and objects. By encapsulating data within classes and exposing only the necessary information to the outside world, we can achieve data abstraction"
   ]
  },
  {
   "cell_type": "code",
   "execution_count": 11,
   "id": "8650e53d-fa0d-4abc-98cd-83effa479aca",
   "metadata": {},
   "outputs": [
    {
     "name": "stdout",
     "output_type": "stream",
     "text": [
      "123456789\n",
      "1000\n",
      "1500\n",
      "Insufficient balance.\n"
     ]
    }
   ],
   "source": [
    "#for example\n",
    "class BankAccount:\n",
    "    def __init__(self, account_number, balance):\n",
    "        self._account_number = account_number  \n",
    "        self._balance = balance \n",
    "\n",
    "    def get_account_number(self):\n",
    "        return self._account_number\n",
    "\n",
    "    def get_balance(self):\n",
    "        return self._balance\n",
    "\n",
    "    def deposit(self, amount):\n",
    "        self._balance += amount\n",
    "\n",
    "    def withdraw(self, amount):\n",
    "        if amount <= self._balance:\n",
    "            self._balance -= amount\n",
    "        else:\n",
    "            print(\"Insufficient balance.\")\n",
    "\n",
    "\n",
    "account = BankAccount(\"123456789\", 1000)\n",
    "\n",
    "print(account.get_account_number())  \n",
    "print(account.get_balance())  \n",
    "\n",
    "\n",
    "account.deposit(500)\n",
    "print(account.get_balance())\n",
    "\n",
    "account.withdraw(2000)"
   ]
  },
  {
   "cell_type": "markdown",
   "id": "c4052e13-5dd1-435b-a59e-60ebc25a6e0f",
   "metadata": {},
   "source": [
    "Q5, Can we create an instance of an abstract class? explain your answer.\n",
    "\n",
    "ANS--No, we cannot create an instance of an abstract class in Python. An abstract class is a class that is meant to be subclassed and serves as a blueprint for other classes. It contains one or more abstract methods that must be implemented by its concrete subclasses.\n",
    "An abstract class is created by inheriting from the ABC class in the abc module and using the @abstractmethod decorator to mark one or more methods as abstract. Abstract methods are defined in the abstract class but do not have any implementation"
   ]
  },
  {
   "cell_type": "code",
   "execution_count": 12,
   "id": "7772cfc9-2209-4a04-a721-8c31550c8d4b",
   "metadata": {},
   "outputs": [
    {
     "ename": "TypeError",
     "evalue": "Can't instantiate abstract class AbstractClass with abstract method abstract_method",
     "output_type": "error",
     "traceback": [
      "\u001b[0;31m---------------------------------------------------------------------------\u001b[0m",
      "\u001b[0;31mTypeError\u001b[0m                                 Traceback (most recent call last)",
      "Cell \u001b[0;32mIn[12], line 10\u001b[0m\n\u001b[1;32m      7\u001b[0m         \u001b[38;5;28;01mpass\u001b[39;00m\n\u001b[1;32m      9\u001b[0m \u001b[38;5;66;03m# Trying to create an instance of the abstract class\u001b[39;00m\n\u001b[0;32m---> 10\u001b[0m obj \u001b[38;5;241m=\u001b[39m \u001b[43mAbstractClass\u001b[49m\u001b[43m(\u001b[49m\u001b[43m)\u001b[49m  \u001b[38;5;66;03m# Raises TypeError: Can't instantiate abstract class AbstractClass with abstract methods abstract_method\u001b[39;00m\n",
      "\u001b[0;31mTypeError\u001b[0m: Can't instantiate abstract class AbstractClass with abstract method abstract_method"
     ]
    }
   ],
   "source": [
    "#here is an example\n",
    "from abc import ABC, abstractmethod\n",
    "\n",
    "class AbstractClass(ABC):\n",
    "    @abstractmethod\n",
    "    def abstract_method(self):\n",
    "        pass\n",
    "\n",
    "# Trying to create an instance of the abstract class\n",
    "obj = AbstractClass()  # Raises TypeError: Can't instantiate abstract class AbstractClass with abstract methods abstract_method"
   ]
  },
  {
   "cell_type": "code",
   "execution_count": null,
   "id": "52a6199c-efe6-409f-845a-ab1f69758cc7",
   "metadata": {},
   "outputs": [],
   "source": []
  }
 ],
 "metadata": {
  "kernelspec": {
   "display_name": "Python 3 (ipykernel)",
   "language": "python",
   "name": "python3"
  },
  "language_info": {
   "codemirror_mode": {
    "name": "ipython",
    "version": 3
   },
   "file_extension": ".py",
   "mimetype": "text/x-python",
   "name": "python",
   "nbconvert_exporter": "python",
   "pygments_lexer": "ipython3",
   "version": "3.10.8"
  }
 },
 "nbformat": 4,
 "nbformat_minor": 5
}
